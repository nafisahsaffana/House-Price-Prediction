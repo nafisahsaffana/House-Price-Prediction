{
 "cells": [
  {
   "cell_type": "markdown",
   "metadata": {},
   "source": [
    "### Data Preparation"
   ]
  },
  {
   "cell_type": "code",
   "execution_count": 276,
   "metadata": {},
   "outputs": [],
   "source": [
    "import numpy as np\n",
    "import pandas as pd"
   ]
  },
  {
   "cell_type": "code",
   "execution_count": 277,
   "metadata": {},
   "outputs": [
    {
     "data": {
      "text/html": [
       "<div>\n",
       "<style scoped>\n",
       "    .dataframe tbody tr th:only-of-type {\n",
       "        vertical-align: middle;\n",
       "    }\n",
       "\n",
       "    .dataframe tbody tr th {\n",
       "        vertical-align: top;\n",
       "    }\n",
       "\n",
       "    .dataframe thead th {\n",
       "        text-align: right;\n",
       "    }\n",
       "</style>\n",
       "<table border=\"1\" class=\"dataframe\">\n",
       "  <thead>\n",
       "    <tr style=\"text-align: right;\">\n",
       "      <th></th>\n",
       "      <th>url</th>\n",
       "      <th>price_in_rp</th>\n",
       "      <th>title</th>\n",
       "      <th>address</th>\n",
       "      <th>district</th>\n",
       "      <th>city</th>\n",
       "      <th>lat</th>\n",
       "      <th>long</th>\n",
       "      <th>facilities</th>\n",
       "      <th>property_type</th>\n",
       "      <th>ads_id</th>\n",
       "      <th>bedrooms</th>\n",
       "      <th>bathrooms</th>\n",
       "      <th>land_size_m2</th>\n",
       "      <th>building_size_m2</th>\n",
       "      <th>carports</th>\n",
       "      <th>certificate</th>\n",
       "      <th>electricity</th>\n",
       "      <th>maid_bedrooms</th>\n",
       "      <th>maid_bathrooms</th>\n",
       "      <th>floors</th>\n",
       "      <th>building_age</th>\n",
       "      <th>year_built</th>\n",
       "      <th>property_condition</th>\n",
       "      <th>building_orientation</th>\n",
       "      <th>garages</th>\n",
       "      <th>furnishing</th>\n",
       "    </tr>\n",
       "  </thead>\n",
       "  <tbody>\n",
       "    <tr>\n",
       "      <th>0</th>\n",
       "      <td>https://www.rumah123.com/properti/bekasi/hos11360272/#qid~213b5619-a399-47b3-bfcf-faaef6b542d5</td>\n",
       "      <td>2.990000e+09</td>\n",
       "      <td>Rumah cantik Sumarecon Bekasi\\nLingkungan asri, tenang &amp; nyaman</td>\n",
       "      <td>Summarecon Bekasi, Bekasi</td>\n",
       "      <td>Summarecon Bekasi</td>\n",
       "      <td>Bekasi</td>\n",
       "      <td>-6.223945</td>\n",
       "      <td>106.986275</td>\n",
       "      <td>Tempat Jemuran, Jalur Telepon, Taman,  Taman</td>\n",
       "      <td>rumah</td>\n",
       "      <td>hos11360272</td>\n",
       "      <td>4.0</td>\n",
       "      <td>4.0</td>\n",
       "      <td>239.0</td>\n",
       "      <td>272.0</td>\n",
       "      <td>0.0</td>\n",
       "      <td>shm - sertifikat hak milik</td>\n",
       "      <td>4400 mah</td>\n",
       "      <td>0.0</td>\n",
       "      <td>1.0</td>\n",
       "      <td>2.0</td>\n",
       "      <td>5.0</td>\n",
       "      <td>2017.0</td>\n",
       "      <td>bagus</td>\n",
       "      <td>NaN</td>\n",
       "      <td>0.0</td>\n",
       "      <td>unfurnished</td>\n",
       "    </tr>\n",
       "  </tbody>\n",
       "</table>\n",
       "</div>"
      ],
      "text/plain": [
       "                                                                                              url  \\\n",
       "0  https://www.rumah123.com/properti/bekasi/hos11360272/#qid~213b5619-a399-47b3-bfcf-faaef6b542d5   \n",
       "\n",
       "    price_in_rp  \\\n",
       "0  2.990000e+09   \n",
       "\n",
       "                                                             title  \\\n",
       "0  Rumah cantik Sumarecon Bekasi\\nLingkungan asri, tenang & nyaman   \n",
       "\n",
       "                     address           district     city       lat  \\\n",
       "0  Summarecon Bekasi, Bekasi  Summarecon Bekasi   Bekasi -6.223945   \n",
       "\n",
       "         long                                    facilities property_type  \\\n",
       "0  106.986275  Tempat Jemuran, Jalur Telepon, Taman,  Taman         rumah   \n",
       "\n",
       "        ads_id  bedrooms  bathrooms  land_size_m2  building_size_m2  carports  \\\n",
       "0  hos11360272       4.0        4.0         239.0             272.0       0.0   \n",
       "\n",
       "                  certificate electricity  maid_bedrooms  maid_bathrooms  \\\n",
       "0  shm - sertifikat hak milik    4400 mah            0.0             1.0   \n",
       "\n",
       "   floors  building_age  year_built property_condition building_orientation  \\\n",
       "0     2.0           5.0      2017.0              bagus                  NaN   \n",
       "\n",
       "   garages   furnishing  \n",
       "0      0.0  unfurnished  "
      ]
     },
     "execution_count": 277,
     "metadata": {},
     "output_type": "execute_result"
    }
   ],
   "source": [
    "# Load data\n",
    "pd.set_option('display.max_columns', None)\n",
    "data = pd.read_csv(\"E:\\College\\cl\\data (cl)\\harga_rumah\\jabodetabek_house_price.csv\")\n",
    "data.head(1)"
   ]
  },
  {
   "cell_type": "code",
   "execution_count": 278,
   "metadata": {},
   "outputs": [
    {
     "name": "stdout",
     "output_type": "stream",
     "text": [
      "<class 'pandas.core.frame.DataFrame'>\n",
      "RangeIndex: 3553 entries, 0 to 3552\n",
      "Data columns (total 27 columns):\n",
      " #   Column                Non-Null Count  Dtype  \n",
      "---  ------                --------------  -----  \n",
      " 0   url                   3553 non-null   object \n",
      " 1   price_in_rp           3553 non-null   float64\n",
      " 2   title                 3553 non-null   object \n",
      " 3   address               3553 non-null   object \n",
      " 4   district              3553 non-null   object \n",
      " 5   city                  3553 non-null   object \n",
      " 6   lat                   3553 non-null   float64\n",
      " 7   long                  3553 non-null   float64\n",
      " 8   facilities            3553 non-null   object \n",
      " 9   property_type         3552 non-null   object \n",
      " 10  ads_id                3549 non-null   object \n",
      " 11  bedrooms              3519 non-null   float64\n",
      " 12  bathrooms             3524 non-null   float64\n",
      " 13  land_size_m2          3551 non-null   float64\n",
      " 14  building_size_m2      3551 non-null   float64\n",
      " 15  carports              3553 non-null   float64\n",
      " 16  certificate           3412 non-null   object \n",
      " 17  electricity           3553 non-null   object \n",
      " 18  maid_bedrooms         3553 non-null   float64\n",
      " 19  maid_bathrooms        3553 non-null   float64\n",
      " 20  floors                3547 non-null   float64\n",
      " 21  building_age          2108 non-null   float64\n",
      " 22  year_built            2108 non-null   float64\n",
      " 23  property_condition    3307 non-null   object \n",
      " 24  building_orientation  1906 non-null   object \n",
      " 25  garages               3553 non-null   float64\n",
      " 26  furnishing            3166 non-null   object \n",
      "dtypes: float64(14), object(13)\n",
      "memory usage: 749.6+ KB\n"
     ]
    }
   ],
   "source": [
    "data.info()"
   ]
  },
  {
   "cell_type": "code",
   "execution_count": 279,
   "metadata": {},
   "outputs": [
    {
     "name": "stdout",
     "output_type": "stream",
     "text": [
      "property_type              1\n",
      "ads_id                     4\n",
      "bedrooms                  34\n",
      "bathrooms                 29\n",
      "land_size_m2               2\n",
      "building_size_m2           2\n",
      "certificate              141\n",
      "floors                     6\n",
      "building_age            1445\n",
      "year_built              1445\n",
      "property_condition       246\n",
      "building_orientation    1647\n",
      "furnishing               387\n",
      "dtype: int64\n"
     ]
    }
   ],
   "source": [
    "missing_values = data.isnull().sum()\n",
    "\n",
    "# Display columns with missing values\n",
    "print(missing_values[missing_values > 0])"
   ]
  },
  {
   "cell_type": "code",
   "execution_count": 280,
   "metadata": {},
   "outputs": [],
   "source": [
    "# data.property_condition.value_counts()"
   ]
  },
  {
   "cell_type": "code",
   "execution_count": 281,
   "metadata": {},
   "outputs": [],
   "source": [
    "# data.facilities.value_counts()"
   ]
  },
  {
   "cell_type": "code",
   "execution_count": 282,
   "metadata": {},
   "outputs": [],
   "source": [
    "# data.certificate.value_counts()"
   ]
  },
  {
   "cell_type": "code",
   "execution_count": 283,
   "metadata": {},
   "outputs": [],
   "source": [
    "# data.bedrooms.value_counts()"
   ]
  },
  {
   "cell_type": "code",
   "execution_count": 284,
   "metadata": {},
   "outputs": [],
   "source": [
    "# data.bathrooms.value_counts()"
   ]
  },
  {
   "cell_type": "code",
   "execution_count": 285,
   "metadata": {},
   "outputs": [],
   "source": [
    "# data.maid_bedrooms.value_counts()"
   ]
  },
  {
   "cell_type": "code",
   "execution_count": 286,
   "metadata": {},
   "outputs": [],
   "source": [
    "# data.floors.value_counts()"
   ]
  },
  {
   "cell_type": "code",
   "execution_count": 287,
   "metadata": {},
   "outputs": [],
   "source": [
    "# data.year_built.value_counts()"
   ]
  },
  {
   "cell_type": "code",
   "execution_count": 288,
   "metadata": {},
   "outputs": [],
   "source": [
    "# data.furnishing.value_counts()"
   ]
  },
  {
   "cell_type": "code",
   "execution_count": 289,
   "metadata": {},
   "outputs": [],
   "source": [
    "# data.garages.value_counts()"
   ]
  },
  {
   "cell_type": "code",
   "execution_count": 290,
   "metadata": {},
   "outputs": [
    {
     "data": {
      "text/plain": [
       "rumah    3552\n",
       "Name: property_type, dtype: int64"
      ]
     },
     "execution_count": 290,
     "metadata": {},
     "output_type": "execute_result"
    }
   ],
   "source": [
    "data.property_type.value_counts()"
   ]
  },
  {
   "cell_type": "markdown",
   "metadata": {},
   "source": [
    "### Data Cleaning"
   ]
  },
  {
   "cell_type": "markdown",
   "metadata": {},
   "source": [
    "- ganti property type jadi \"kost\" untuk tittle yang ada kata \"kos\", \"kost\", \"kontrakan\" dan kamarnya lebih dari 15\n",
    "- hapus data yang property typenya \"kost\"\n",
    "\n",
    "drop : title, ads_id, year_built, building_age, building_orientation, garages, property_condition, building_orientation\n",
    "*property condition dihapus karena value seperti unfurnished, semi furnished, furnished, baru sudah ada di kolom \"furnishing\" dan value lainnya tidak memiliki parameter yang jelas\n"
   ]
  },
  {
   "cell_type": "code",
   "execution_count": 291,
   "metadata": {},
   "outputs": [],
   "source": [
    "# Mengubah 'property_type' menjadi 'kost' untuk baris dengan 'title' yang mengandung 'kos', 'kost', atau 'kontrakan' dan 'bedrooms' lebih dari 15\n",
    "data.loc[(data['title'].str.contains('kos|kost|kontrakan', case=False)) & (data['bedrooms'] > 15), 'property_type'] = 'kost'\n",
    "data.loc[(data['title'].str.contains('ruko', case=False)), 'property_type'] = 'ruko'\n"
   ]
  },
  {
   "cell_type": "code",
   "execution_count": 292,
   "metadata": {},
   "outputs": [
    {
     "data": {
      "text/plain": [
       "rumah    3541\n",
       "kost        8\n",
       "ruko        4\n",
       "Name: property_type, dtype: int64"
      ]
     },
     "execution_count": 292,
     "metadata": {},
     "output_type": "execute_result"
    }
   ],
   "source": [
    "data.property_type.value_counts()"
   ]
  },
  {
   "cell_type": "code",
   "execution_count": 293,
   "metadata": {},
   "outputs": [],
   "source": [
    "# Mengganti nilai bedrooms dengan penjumlahan bedrooms dan maid bedrooms\n",
    "data['bedrooms'].fillna(0, inplace=True)\n",
    "data['maid_bedrooms'].fillna(0, inplace=True)\n",
    "\n",
    "data['bedrooms'] = data['bedrooms'] + data['maid_bedrooms']\n"
   ]
  },
  {
   "cell_type": "code",
   "execution_count": 294,
   "metadata": {},
   "outputs": [
    {
     "data": {
      "text/plain": [
       "0"
      ]
     },
     "execution_count": 294,
     "metadata": {},
     "output_type": "execute_result"
    }
   ],
   "source": [
    "data['bedrooms'].isnull().sum()"
   ]
  },
  {
   "cell_type": "code",
   "execution_count": 295,
   "metadata": {},
   "outputs": [],
   "source": [
    "# Mengganti nilai bedrooms dengan penjumlahan bedrooms dan maid bedrooms\n",
    "data['bathrooms'].fillna(0, inplace=True)\n",
    "data['maid_bathrooms'].fillna(0, inplace=True)\n",
    "\n",
    "data['bathrooms'] = data['bathrooms'] + data['maid_bathrooms']\n"
   ]
  },
  {
   "cell_type": "code",
   "execution_count": 296,
   "metadata": {},
   "outputs": [
    {
     "data": {
      "text/plain": [
       "0"
      ]
     },
     "execution_count": 296,
     "metadata": {},
     "output_type": "execute_result"
    }
   ],
   "source": [
    "data['bathrooms'].isnull().sum()"
   ]
  },
  {
   "cell_type": "code",
   "execution_count": 297,
   "metadata": {},
   "outputs": [],
   "source": [
    "# Menghapus baris di mana 'land_size_m2' adalah NaN\n",
    "data = data.dropna(subset=['land_size_m2'])\n"
   ]
  },
  {
   "cell_type": "code",
   "execution_count": 298,
   "metadata": {},
   "outputs": [
    {
     "data": {
      "text/plain": [
       "0"
      ]
     },
     "execution_count": 298,
     "metadata": {},
     "output_type": "execute_result"
    }
   ],
   "source": [
    "data['land_size_m2'].isnull().sum()"
   ]
  },
  {
   "cell_type": "code",
   "execution_count": 299,
   "metadata": {},
   "outputs": [],
   "source": [
    "# Menghapus baris di mana 'land_size_m2' adalah NaN\n",
    "data = data.dropna(subset=['building_size_m2'])"
   ]
  },
  {
   "cell_type": "code",
   "execution_count": 300,
   "metadata": {},
   "outputs": [
    {
     "data": {
      "text/plain": [
       "0"
      ]
     },
     "execution_count": 300,
     "metadata": {},
     "output_type": "execute_result"
    }
   ],
   "source": [
    "data['building_size_m2'].isnull().sum()"
   ]
  },
  {
   "cell_type": "code",
   "execution_count": 301,
   "metadata": {},
   "outputs": [],
   "source": [
    "data['certificate'].fillna(0, inplace=True)"
   ]
  },
  {
   "cell_type": "code",
   "execution_count": 302,
   "metadata": {},
   "outputs": [],
   "source": [
    "data['furnishing'].fillna(0, inplace=True)"
   ]
  },
  {
   "cell_type": "code",
   "execution_count": 303,
   "metadata": {},
   "outputs": [],
   "source": [
    "data = data.dropna(subset=['title', 'ads_id', 'year_built', 'building_age', 'building_orientation', 'garages', 'property_condition'])"
   ]
  },
  {
   "cell_type": "markdown",
   "metadata": {},
   "source": [
    "### Data Transformation"
   ]
  },
  {
   "cell_type": "markdown",
   "metadata": {},
   "source": [
    "### Exploratory Data Analysis"
   ]
  },
  {
   "cell_type": "markdown",
   "metadata": {},
   "source": []
  },
  {
   "cell_type": "markdown",
   "metadata": {},
   "source": [
    "### Feature Engineering"
   ]
  },
  {
   "cell_type": "markdown",
   "metadata": {},
   "source": []
  },
  {
   "cell_type": "markdown",
   "metadata": {},
   "source": [
    "### Modeling"
   ]
  },
  {
   "cell_type": "markdown",
   "metadata": {},
   "source": []
  },
  {
   "cell_type": "markdown",
   "metadata": {},
   "source": [
    "### Evaluation"
   ]
  },
  {
   "cell_type": "markdown",
   "metadata": {},
   "source": []
  }
 ],
 "metadata": {
  "kernelspec": {
   "display_name": "venv",
   "language": "python",
   "name": "python3"
  },
  "language_info": {
   "codemirror_mode": {
    "name": "ipython",
    "version": 3
   },
   "file_extension": ".py",
   "mimetype": "text/x-python",
   "name": "python",
   "nbconvert_exporter": "python",
   "pygments_lexer": "ipython3",
   "version": "3.10.9"
  }
 },
 "nbformat": 4,
 "nbformat_minor": 2
}
